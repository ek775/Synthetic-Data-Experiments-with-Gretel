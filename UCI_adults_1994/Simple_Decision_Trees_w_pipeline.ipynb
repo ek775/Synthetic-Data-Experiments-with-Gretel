{
 "cells": [
  {
   "cell_type": "code",
   "execution_count": 1,
   "metadata": {},
   "outputs": [
    {
     "name": "stdout",
     "output_type": "stream",
     "text": [
      "default-config-6369bbd7654895359e79db3f-data.csv\n",
      "default-config-6369bbd7654895359e79db3f-data.csv.gz\n",
      "og_train.csv\n",
      "synth_confusion_matrix.jpg\n",
      "synth_confusion_matrix.png\n",
      "synth_roc.jpg\n",
      "test.csv\n"
     ]
    }
   ],
   "source": [
    "!ls data"
   ]
  },
  {
   "cell_type": "code",
   "execution_count": 2,
   "metadata": {},
   "outputs": [],
   "source": [
    "import pandas as pd\n",
    "import numpy as np\n",
    "import seaborn as sns\n",
    "import matplotlib.pyplot as plt\n",
    "\n",
    "from sklearn.tree import DecisionTreeClassifier, plot_tree\n",
    "from sklearn.model_selection import train_test_split, train_test_split, cross_val_score\n",
    "from sklearn.metrics import accuracy_score, plot_roc_curve, plot_confusion_matrix, precision_recall_curve, precision_recall_fscore_support\n",
    "from sklearn.preprocessing import OneHotEncoder, StandardScaler\n",
    "from sklearn.pipeline import Pipeline\n",
    "from sklearn.compose import ColumnTransformer\n",
    "from sklearn.impute import MissingIndicator, SimpleImputer\n",
    "from sklearn.feature_selection import SelectFromModel\n",
    "\n",
    "%matplotlib inline"
   ]
  },
  {
   "cell_type": "code",
   "execution_count": 3,
   "metadata": {},
   "outputs": [
    {
     "data": {
      "text/plain": [
       "(   Unnamed: 0  39  State-gov   77516    Bachelors   13        Never-married  \\\n",
       " 0         897  38    Private  167873      Masters   14   Married-civ-spouse   \n",
       " 1       26181  53    Private  287908      Masters   14            Separated   \n",
       " 2       31600  35    Private  255690   Assoc-acdm   12              Widowed   \n",
       " 3        5203  50    Private  498351      HS-grad    9            Separated   \n",
       " 4       21833  41    Private  189975      Masters   14   Married-civ-spouse   \n",
       " \n",
       "      Adm-clerical  Not-in-family   White     Male   2174   0    40  \\\n",
       " 0           Sales        Husband   White     Male      0   0  60.0   \n",
       " 1    Adm-clerical      Unmarried   White   Female      0   0  45.0   \n",
       " 2   Other-service      Unmarried   White   Female      0   0  40.0   \n",
       " 3   Other-service      Unmarried   White   Female      0   0  30.0   \n",
       " 4           Sales        Husband   White     Male      0   0  55.0   \n",
       " \n",
       "     United-States   <=50K  \n",
       " 0   United-States   <=50K  \n",
       " 1   United-States   <=50K  \n",
       " 2   United-States   <=50K  \n",
       " 3          Mexico   <=50K  \n",
       " 4   United-States   <=50K  ,\n",
       "    Unnamed: 0  39   State-gov   77516    Bachelors   13        Never-married  \\\n",
       " 0        8610  49     Private   76482      HS-grad    9   Married-civ-spouse   \n",
       " 1          29  23   Local-gov  190709   Assoc-acdm   12        Never-married   \n",
       " 2       12181  57     Private   99364          9th    5   Married-civ-spouse   \n",
       " 3       18114  28   State-gov  155397    Bachelors   13        Never-married   \n",
       " 4        4278  46     Private  215943      HS-grad    9             Divorced   \n",
       " \n",
       "          Adm-clerical   Not-in-family   White     Male   2174   0   40  \\\n",
       " 0        Craft-repair         Husband   White     Male      0   0   40   \n",
       " 1     Protective-serv   Not-in-family   White     Male      0   0   52   \n",
       " 2   Machine-op-inspct         Husband   White     Male      0   0   40   \n",
       " 3     Exec-managerial   Not-in-family   White     Male      0   0   55   \n",
       " 4      Prof-specialty       Unmarried   White   Female      0   0   40   \n",
       " \n",
       "     United-States   <=50K  \n",
       " 0   United-States   <=50K  \n",
       " 1   United-States   <=50K  \n",
       " 2     Puerto-Rico   <=50K  \n",
       " 3   United-States   <=50K  \n",
       " 4   United-States   <=50K  )"
      ]
     },
     "execution_count": 3,
     "metadata": {},
     "output_type": "execute_result"
    }
   ],
   "source": [
    "synthetic = pd.read_csv(\"./data/default-config-6369bbd7654895359e79db3f-data.csv\")\n",
    "original = pd.read_csv(\"./data/og_train.csv\")\n",
    "synthetic.head(), original.head()"
   ]
  },
  {
   "cell_type": "code",
   "execution_count": 4,
   "metadata": {},
   "outputs": [
    {
     "name": "stdout",
     "output_type": "stream",
     "text": [
      "<class 'pandas.core.frame.DataFrame'>\n",
      "RangeIndex: 20000 entries, 0 to 19999\n",
      "Data columns (total 16 columns):\n",
      " #   Column          Non-Null Count  Dtype  \n",
      "---  ------          --------------  -----  \n",
      " 0   Unnamed: 0      20000 non-null  int64  \n",
      " 1   39              20000 non-null  int64  \n",
      " 2    State-gov      20000 non-null  object \n",
      " 3    77516          20000 non-null  int64  \n",
      " 4    Bachelors      20000 non-null  object \n",
      " 5    13             20000 non-null  int64  \n",
      " 6    Never-married  20000 non-null  object \n",
      " 7    Adm-clerical   20000 non-null  object \n",
      " 8    Not-in-family  20000 non-null  object \n",
      " 9    White          20000 non-null  object \n",
      " 10   Male           20000 non-null  object \n",
      " 11   2174           20000 non-null  int64  \n",
      " 12   0              20000 non-null  int64  \n",
      " 13   40             19999 non-null  float64\n",
      " 14   United-States  20000 non-null  object \n",
      " 15   <=50K          20000 non-null  object \n",
      "dtypes: float64(1), int64(6), object(9)\n",
      "memory usage: 2.4+ MB\n",
      "<class 'pandas.core.frame.DataFrame'>\n",
      "RangeIndex: 24420 entries, 0 to 24419\n",
      "Data columns (total 16 columns):\n",
      " #   Column          Non-Null Count  Dtype \n",
      "---  ------          --------------  ----- \n",
      " 0   Unnamed: 0      24420 non-null  int64 \n",
      " 1   39              24420 non-null  int64 \n",
      " 2    State-gov      24420 non-null  object\n",
      " 3    77516          24420 non-null  int64 \n",
      " 4    Bachelors      24420 non-null  object\n",
      " 5    13             24420 non-null  int64 \n",
      " 6    Never-married  24420 non-null  object\n",
      " 7    Adm-clerical   24420 non-null  object\n",
      " 8    Not-in-family  24420 non-null  object\n",
      " 9    White          24420 non-null  object\n",
      " 10   Male           24420 non-null  object\n",
      " 11   2174           24420 non-null  int64 \n",
      " 12   0              24420 non-null  int64 \n",
      " 13   40             24420 non-null  int64 \n",
      " 14   United-States  24420 non-null  object\n",
      " 15   <=50K          24420 non-null  object\n",
      "dtypes: int64(7), object(9)\n",
      "memory usage: 3.0+ MB\n"
     ]
    },
    {
     "data": {
      "text/plain": [
       "(None, None)"
      ]
     },
     "execution_count": 4,
     "metadata": {},
     "output_type": "execute_result"
    }
   ],
   "source": [
    "synthetic.info(), original.info()"
   ]
  },
  {
   "cell_type": "code",
   "execution_count": 5,
   "metadata": {},
   "outputs": [
    {
     "data": {
      "text/plain": [
       "Index(['Unnamed: 0', '39', ' State-gov', ' 77516', ' Bachelors', ' 13',\n",
       "       ' Never-married', ' Adm-clerical', ' Not-in-family', ' White', ' Male',\n",
       "       ' 2174', ' 0', ' 40', ' United-States', ' <=50K'],\n",
       "      dtype='object')"
      ]
     },
     "execution_count": 5,
     "metadata": {},
     "output_type": "execute_result"
    }
   ],
   "source": [
    "synthetic.columns"
   ]
  },
  {
   "cell_type": "code",
   "execution_count": 6,
   "metadata": {},
   "outputs": [],
   "source": [
    "#uppercase X and Y followed by \"s\" for synthetic and \"r\" for real\n",
    "#set targets for model training\n",
    "Xs_train = synthetic.drop(columns=\" <=50K\")\n",
    "Ys_train = pd.DataFrame(synthetic[\" <=50K\"])\n",
    "Xr_train = original.drop(columns=\" <=50K\")\n",
    "Yr_train = pd.DataFrame(original[\" <=50K\"])"
   ]
  },
  {
   "cell_type": "code",
   "execution_count": 7,
   "metadata": {},
   "outputs": [
    {
     "data": {
      "text/html": [
       "<div>\n",
       "<style scoped>\n",
       "    .dataframe tbody tr th:only-of-type {\n",
       "        vertical-align: middle;\n",
       "    }\n",
       "\n",
       "    .dataframe tbody tr th {\n",
       "        vertical-align: top;\n",
       "    }\n",
       "\n",
       "    .dataframe thead th {\n",
       "        text-align: right;\n",
       "    }\n",
       "</style>\n",
       "<table border=\"1\" class=\"dataframe\">\n",
       "  <thead>\n",
       "    <tr style=\"text-align: right;\">\n",
       "      <th></th>\n",
       "      <th>Unnamed: 0</th>\n",
       "      <th>39</th>\n",
       "      <th>State-gov</th>\n",
       "      <th>77516</th>\n",
       "      <th>Bachelors</th>\n",
       "      <th>13</th>\n",
       "      <th>Never-married</th>\n",
       "      <th>Adm-clerical</th>\n",
       "      <th>Not-in-family</th>\n",
       "      <th>White</th>\n",
       "      <th>Male</th>\n",
       "      <th>2174</th>\n",
       "      <th>0</th>\n",
       "      <th>40</th>\n",
       "      <th>United-States</th>\n",
       "      <th>&lt;=50K</th>\n",
       "    </tr>\n",
       "  </thead>\n",
       "  <tbody>\n",
       "    <tr>\n",
       "      <th>0</th>\n",
       "      <td>897</td>\n",
       "      <td>38</td>\n",
       "      <td>Private</td>\n",
       "      <td>167873</td>\n",
       "      <td>Masters</td>\n",
       "      <td>14</td>\n",
       "      <td>Married-civ-spouse</td>\n",
       "      <td>Sales</td>\n",
       "      <td>Husband</td>\n",
       "      <td>White</td>\n",
       "      <td>Male</td>\n",
       "      <td>0</td>\n",
       "      <td>0</td>\n",
       "      <td>60.0</td>\n",
       "      <td>United-States</td>\n",
       "      <td>&lt;=50K</td>\n",
       "    </tr>\n",
       "    <tr>\n",
       "      <th>1</th>\n",
       "      <td>26181</td>\n",
       "      <td>53</td>\n",
       "      <td>Private</td>\n",
       "      <td>287908</td>\n",
       "      <td>Masters</td>\n",
       "      <td>14</td>\n",
       "      <td>Separated</td>\n",
       "      <td>Adm-clerical</td>\n",
       "      <td>Unmarried</td>\n",
       "      <td>White</td>\n",
       "      <td>Female</td>\n",
       "      <td>0</td>\n",
       "      <td>0</td>\n",
       "      <td>45.0</td>\n",
       "      <td>United-States</td>\n",
       "      <td>&lt;=50K</td>\n",
       "    </tr>\n",
       "    <tr>\n",
       "      <th>2</th>\n",
       "      <td>31600</td>\n",
       "      <td>35</td>\n",
       "      <td>Private</td>\n",
       "      <td>255690</td>\n",
       "      <td>Assoc-acdm</td>\n",
       "      <td>12</td>\n",
       "      <td>Widowed</td>\n",
       "      <td>Other-service</td>\n",
       "      <td>Unmarried</td>\n",
       "      <td>White</td>\n",
       "      <td>Female</td>\n",
       "      <td>0</td>\n",
       "      <td>0</td>\n",
       "      <td>40.0</td>\n",
       "      <td>United-States</td>\n",
       "      <td>&lt;=50K</td>\n",
       "    </tr>\n",
       "    <tr>\n",
       "      <th>3</th>\n",
       "      <td>5203</td>\n",
       "      <td>50</td>\n",
       "      <td>Private</td>\n",
       "      <td>498351</td>\n",
       "      <td>HS-grad</td>\n",
       "      <td>9</td>\n",
       "      <td>Separated</td>\n",
       "      <td>Other-service</td>\n",
       "      <td>Unmarried</td>\n",
       "      <td>White</td>\n",
       "      <td>Female</td>\n",
       "      <td>0</td>\n",
       "      <td>0</td>\n",
       "      <td>30.0</td>\n",
       "      <td>Mexico</td>\n",
       "      <td>&lt;=50K</td>\n",
       "    </tr>\n",
       "    <tr>\n",
       "      <th>4</th>\n",
       "      <td>21833</td>\n",
       "      <td>41</td>\n",
       "      <td>Private</td>\n",
       "      <td>189975</td>\n",
       "      <td>Masters</td>\n",
       "      <td>14</td>\n",
       "      <td>Married-civ-spouse</td>\n",
       "      <td>Sales</td>\n",
       "      <td>Husband</td>\n",
       "      <td>White</td>\n",
       "      <td>Male</td>\n",
       "      <td>0</td>\n",
       "      <td>0</td>\n",
       "      <td>55.0</td>\n",
       "      <td>United-States</td>\n",
       "      <td>&lt;=50K</td>\n",
       "    </tr>\n",
       "  </tbody>\n",
       "</table>\n",
       "</div>"
      ],
      "text/plain": [
       "   Unnamed: 0  39  State-gov   77516    Bachelors   13        Never-married  \\\n",
       "0         897  38    Private  167873      Masters   14   Married-civ-spouse   \n",
       "1       26181  53    Private  287908      Masters   14            Separated   \n",
       "2       31600  35    Private  255690   Assoc-acdm   12              Widowed   \n",
       "3        5203  50    Private  498351      HS-grad    9            Separated   \n",
       "4       21833  41    Private  189975      Masters   14   Married-civ-spouse   \n",
       "\n",
       "     Adm-clerical  Not-in-family   White     Male   2174   0    40  \\\n",
       "0           Sales        Husband   White     Male      0   0  60.0   \n",
       "1    Adm-clerical      Unmarried   White   Female      0   0  45.0   \n",
       "2   Other-service      Unmarried   White   Female      0   0  40.0   \n",
       "3   Other-service      Unmarried   White   Female      0   0  30.0   \n",
       "4           Sales        Husband   White     Male      0   0  55.0   \n",
       "\n",
       "    United-States   <=50K  \n",
       "0   United-States   <=50K  \n",
       "1   United-States   <=50K  \n",
       "2   United-States   <=50K  \n",
       "3          Mexico   <=50K  \n",
       "4   United-States   <=50K  "
      ]
     },
     "execution_count": 7,
     "metadata": {},
     "output_type": "execute_result"
    }
   ],
   "source": [
    "synthetic.head()"
   ]
  },
  {
   "cell_type": "code",
   "execution_count": 8,
   "metadata": {},
   "outputs": [],
   "source": [
    "#create primary pipeline elements\n",
    "\n",
    "num_pipeline = Pipeline(steps=[(\"num_imp\", SimpleImputer()),\n",
    "                               ('ss', StandardScaler())])\n",
    "\n",
    "cat_pipeline = Pipeline(steps=[(\"cat_imp\", SimpleImputer(strategy=\"most_frequent\")),\n",
    "                               (\"cat_ohe\", OneHotEncoder(handle_unknown='ignore'))])\n",
    "\n",
    "#column transformer\n",
    "numeric_feature_names = [\"39\",\" 13\",\" 40\",' 2174',' 0']\n",
    "categorical_feature_names = [\" State-gov\", \" Bachelors\", \" Never-married\", ' Adm-clerical', \n",
    "                             ' Not-in-family', ' White', ' Male', ' United-States']\n",
    "\n",
    "\n",
    "col_tr = ColumnTransformer(transformers=[('num', num_pipeline, numeric_feature_names),\n",
    "                                         ('cat', cat_pipeline, categorical_feature_names)], \n",
    "                           remainder='passthrough', sparse_threshold=0)\n"
   ]
  },
  {
   "cell_type": "code",
   "execution_count": 9,
   "metadata": {},
   "outputs": [
    {
     "data": {
      "text/plain": [
       "(20000, 106)"
      ]
     },
     "execution_count": 9,
     "metadata": {},
     "output_type": "execute_result"
    }
   ],
   "source": [
    "col_tr.fit_transform(Xs_train).shape"
   ]
  },
  {
   "cell_type": "code",
   "execution_count": 10,
   "metadata": {},
   "outputs": [
    {
     "data": {
      "text/plain": [
       "Pipeline(steps=[('ct',\n",
       "                 ColumnTransformer(remainder='passthrough', sparse_threshold=0,\n",
       "                                   transformers=[('num',\n",
       "                                                  Pipeline(steps=[('num_imp',\n",
       "                                                                   SimpleImputer()),\n",
       "                                                                  ('ss',\n",
       "                                                                   StandardScaler())]),\n",
       "                                                  ['39', ' 13', ' 40', ' 2174',\n",
       "                                                   ' 0']),\n",
       "                                                 ('cat',\n",
       "                                                  Pipeline(steps=[('cat_imp',\n",
       "                                                                   SimpleImputer(strategy='most_frequent')),\n",
       "                                                                  ('cat_ohe',\n",
       "                                                                   OneHotEncoder(handle_unknown='ignore'))]),\n",
       "                                                  [' State-gov', ' Bachelors',\n",
       "                                                   ' Never-married',\n",
       "                                                   ' Adm-clerical',\n",
       "                                                   ' Not-in-family', ' White',\n",
       "                                                   ' Male',\n",
       "                                                   ' United-States'])])),\n",
       "                ('simp_dec_tree',\n",
       "                 DecisionTreeClassifier(max_depth=20, random_state=42))])"
      ]
     },
     "execution_count": 10,
     "metadata": {},
     "output_type": "execute_result"
    }
   ],
   "source": [
    "#simple decision trees\n",
    "#syn = synthetic\n",
    "syn_pipe = Pipeline(steps=[(\"ct\", col_tr),\n",
    "                           (\"simp_dec_tree\", DecisionTreeClassifier(max_depth=20, random_state=42))])\n",
    "syn_pipe.fit(Xs_train, Ys_train)\n",
    "\n",
    "#og = original\n",
    "og_pipe = Pipeline(steps=[(\"ct\", col_tr),\n",
    "                           (\"simp_dec_tree\", DecisionTreeClassifier(max_depth=20, random_state=42))])\n",
    "og_pipe.fit(Xr_train, Yr_train)"
   ]
  },
  {
   "cell_type": "code",
   "execution_count": 11,
   "metadata": {},
   "outputs": [
    {
     "data": {
      "text/plain": [
       "('0x228869ea3a0', '0x228869d7490')"
      ]
     },
     "execution_count": 11,
     "metadata": {},
     "output_type": "execute_result"
    }
   ],
   "source": [
    "hex(id(syn_pipe)), hex(id(og_pipe))"
   ]
  },
  {
   "cell_type": "markdown",
   "metadata": {},
   "source": [
    "# Testing Models"
   ]
  },
  {
   "cell_type": "code",
   "execution_count": 12,
   "metadata": {},
   "outputs": [
    {
     "name": "stdout",
     "output_type": "stream",
     "text": [
      "default-config-6369bbd7654895359e79db3f-data.csv\n",
      "default-config-6369bbd7654895359e79db3f-data.csv.gz\n",
      "og_train.csv\n",
      "synth_confusion_matrix.jpg\n",
      "synth_confusion_matrix.png\n",
      "synth_roc.jpg\n",
      "test.csv\n"
     ]
    }
   ],
   "source": [
    "!ls data"
   ]
  },
  {
   "cell_type": "code",
   "execution_count": 13,
   "metadata": {},
   "outputs": [
    {
     "data": {
      "text/html": [
       "<div>\n",
       "<style scoped>\n",
       "    .dataframe tbody tr th:only-of-type {\n",
       "        vertical-align: middle;\n",
       "    }\n",
       "\n",
       "    .dataframe tbody tr th {\n",
       "        vertical-align: top;\n",
       "    }\n",
       "\n",
       "    .dataframe thead th {\n",
       "        text-align: right;\n",
       "    }\n",
       "</style>\n",
       "<table border=\"1\" class=\"dataframe\">\n",
       "  <thead>\n",
       "    <tr style=\"text-align: right;\">\n",
       "      <th></th>\n",
       "      <th>Unnamed: 0</th>\n",
       "      <th>39</th>\n",
       "      <th>State-gov</th>\n",
       "      <th>77516</th>\n",
       "      <th>Bachelors</th>\n",
       "      <th>13</th>\n",
       "      <th>Never-married</th>\n",
       "      <th>Adm-clerical</th>\n",
       "      <th>Not-in-family</th>\n",
       "      <th>White</th>\n",
       "      <th>Male</th>\n",
       "      <th>2174</th>\n",
       "      <th>0</th>\n",
       "      <th>40</th>\n",
       "      <th>United-States</th>\n",
       "      <th>&lt;=50K</th>\n",
       "    </tr>\n",
       "  </thead>\n",
       "  <tbody>\n",
       "    <tr>\n",
       "      <th>0</th>\n",
       "      <td>14160</td>\n",
       "      <td>38</td>\n",
       "      <td>Private</td>\n",
       "      <td>680390</td>\n",
       "      <td>HS-grad</td>\n",
       "      <td>9</td>\n",
       "      <td>Divorced</td>\n",
       "      <td>Adm-clerical</td>\n",
       "      <td>Unmarried</td>\n",
       "      <td>White</td>\n",
       "      <td>Female</td>\n",
       "      <td>0</td>\n",
       "      <td>0</td>\n",
       "      <td>20</td>\n",
       "      <td>United-States</td>\n",
       "      <td>&lt;=50K</td>\n",
       "    </tr>\n",
       "    <tr>\n",
       "      <th>1</th>\n",
       "      <td>27047</td>\n",
       "      <td>45</td>\n",
       "      <td>State-gov</td>\n",
       "      <td>50567</td>\n",
       "      <td>HS-grad</td>\n",
       "      <td>9</td>\n",
       "      <td>Married-civ-spouse</td>\n",
       "      <td>Exec-managerial</td>\n",
       "      <td>Wife</td>\n",
       "      <td>White</td>\n",
       "      <td>Female</td>\n",
       "      <td>0</td>\n",
       "      <td>0</td>\n",
       "      <td>40</td>\n",
       "      <td>United-States</td>\n",
       "      <td>&lt;=50K</td>\n",
       "    </tr>\n",
       "    <tr>\n",
       "      <th>2</th>\n",
       "      <td>28867</td>\n",
       "      <td>29</td>\n",
       "      <td>Private</td>\n",
       "      <td>185908</td>\n",
       "      <td>Bachelors</td>\n",
       "      <td>13</td>\n",
       "      <td>Married-civ-spouse</td>\n",
       "      <td>Exec-managerial</td>\n",
       "      <td>Husband</td>\n",
       "      <td>Black</td>\n",
       "      <td>Male</td>\n",
       "      <td>0</td>\n",
       "      <td>0</td>\n",
       "      <td>55</td>\n",
       "      <td>United-States</td>\n",
       "      <td>&gt;50K</td>\n",
       "    </tr>\n",
       "    <tr>\n",
       "      <th>3</th>\n",
       "      <td>5667</td>\n",
       "      <td>51</td>\n",
       "      <td>Private</td>\n",
       "      <td>306108</td>\n",
       "      <td>Doctorate</td>\n",
       "      <td>16</td>\n",
       "      <td>Never-married</td>\n",
       "      <td>Prof-specialty</td>\n",
       "      <td>Not-in-family</td>\n",
       "      <td>White</td>\n",
       "      <td>Male</td>\n",
       "      <td>0</td>\n",
       "      <td>0</td>\n",
       "      <td>40</td>\n",
       "      <td>United-States</td>\n",
       "      <td>&gt;50K</td>\n",
       "    </tr>\n",
       "    <tr>\n",
       "      <th>4</th>\n",
       "      <td>7827</td>\n",
       "      <td>46</td>\n",
       "      <td>Private</td>\n",
       "      <td>124071</td>\n",
       "      <td>Masters</td>\n",
       "      <td>14</td>\n",
       "      <td>Widowed</td>\n",
       "      <td>Prof-specialty</td>\n",
       "      <td>Not-in-family</td>\n",
       "      <td>White</td>\n",
       "      <td>Female</td>\n",
       "      <td>0</td>\n",
       "      <td>0</td>\n",
       "      <td>44</td>\n",
       "      <td>United-States</td>\n",
       "      <td>&lt;=50K</td>\n",
       "    </tr>\n",
       "  </tbody>\n",
       "</table>\n",
       "</div>"
      ],
      "text/plain": [
       "   Unnamed: 0  39   State-gov   77516   Bachelors   13        Never-married  \\\n",
       "0       14160  38     Private  680390     HS-grad    9             Divorced   \n",
       "1       27047  45   State-gov   50567     HS-grad    9   Married-civ-spouse   \n",
       "2       28867  29     Private  185908   Bachelors   13   Married-civ-spouse   \n",
       "3        5667  51     Private  306108   Doctorate   16        Never-married   \n",
       "4        7827  46     Private  124071     Masters   14              Widowed   \n",
       "\n",
       "       Adm-clerical   Not-in-family   White     Male   2174   0   40  \\\n",
       "0      Adm-clerical       Unmarried   White   Female      0   0   20   \n",
       "1   Exec-managerial            Wife   White   Female      0   0   40   \n",
       "2   Exec-managerial         Husband   Black     Male      0   0   55   \n",
       "3    Prof-specialty   Not-in-family   White     Male      0   0   40   \n",
       "4    Prof-specialty   Not-in-family   White   Female      0   0   44   \n",
       "\n",
       "    United-States   <=50K  \n",
       "0   United-States   <=50K  \n",
       "1   United-States   <=50K  \n",
       "2   United-States    >50K  \n",
       "3   United-States    >50K  \n",
       "4   United-States   <=50K  "
      ]
     },
     "execution_count": 13,
     "metadata": {},
     "output_type": "execute_result"
    }
   ],
   "source": [
    "#import test data\n",
    "test = pd.read_csv(\"./data/test.csv\")\n",
    "test.head()"
   ]
  },
  {
   "cell_type": "code",
   "execution_count": 14,
   "metadata": {},
   "outputs": [
    {
     "data": {
      "text/html": [
       "<div>\n",
       "<style scoped>\n",
       "    .dataframe tbody tr th:only-of-type {\n",
       "        vertical-align: middle;\n",
       "    }\n",
       "\n",
       "    .dataframe tbody tr th {\n",
       "        vertical-align: top;\n",
       "    }\n",
       "\n",
       "    .dataframe thead th {\n",
       "        text-align: right;\n",
       "    }\n",
       "</style>\n",
       "<table border=\"1\" class=\"dataframe\">\n",
       "  <thead>\n",
       "    <tr style=\"text-align: right;\">\n",
       "      <th></th>\n",
       "      <th>Unnamed: 0</th>\n",
       "      <th>39</th>\n",
       "      <th>State-gov</th>\n",
       "      <th>77516</th>\n",
       "      <th>Bachelors</th>\n",
       "      <th>13</th>\n",
       "      <th>Never-married</th>\n",
       "      <th>Adm-clerical</th>\n",
       "      <th>Not-in-family</th>\n",
       "      <th>White</th>\n",
       "      <th>Male</th>\n",
       "      <th>2174</th>\n",
       "      <th>0</th>\n",
       "      <th>40</th>\n",
       "      <th>United-States</th>\n",
       "    </tr>\n",
       "  </thead>\n",
       "  <tbody>\n",
       "    <tr>\n",
       "      <th>0</th>\n",
       "      <td>14160</td>\n",
       "      <td>38</td>\n",
       "      <td>Private</td>\n",
       "      <td>680390</td>\n",
       "      <td>HS-grad</td>\n",
       "      <td>9</td>\n",
       "      <td>Divorced</td>\n",
       "      <td>Adm-clerical</td>\n",
       "      <td>Unmarried</td>\n",
       "      <td>White</td>\n",
       "      <td>Female</td>\n",
       "      <td>0</td>\n",
       "      <td>0</td>\n",
       "      <td>20</td>\n",
       "      <td>United-States</td>\n",
       "    </tr>\n",
       "    <tr>\n",
       "      <th>1</th>\n",
       "      <td>27047</td>\n",
       "      <td>45</td>\n",
       "      <td>State-gov</td>\n",
       "      <td>50567</td>\n",
       "      <td>HS-grad</td>\n",
       "      <td>9</td>\n",
       "      <td>Married-civ-spouse</td>\n",
       "      <td>Exec-managerial</td>\n",
       "      <td>Wife</td>\n",
       "      <td>White</td>\n",
       "      <td>Female</td>\n",
       "      <td>0</td>\n",
       "      <td>0</td>\n",
       "      <td>40</td>\n",
       "      <td>United-States</td>\n",
       "    </tr>\n",
       "    <tr>\n",
       "      <th>2</th>\n",
       "      <td>28867</td>\n",
       "      <td>29</td>\n",
       "      <td>Private</td>\n",
       "      <td>185908</td>\n",
       "      <td>Bachelors</td>\n",
       "      <td>13</td>\n",
       "      <td>Married-civ-spouse</td>\n",
       "      <td>Exec-managerial</td>\n",
       "      <td>Husband</td>\n",
       "      <td>Black</td>\n",
       "      <td>Male</td>\n",
       "      <td>0</td>\n",
       "      <td>0</td>\n",
       "      <td>55</td>\n",
       "      <td>United-States</td>\n",
       "    </tr>\n",
       "    <tr>\n",
       "      <th>3</th>\n",
       "      <td>5667</td>\n",
       "      <td>51</td>\n",
       "      <td>Private</td>\n",
       "      <td>306108</td>\n",
       "      <td>Doctorate</td>\n",
       "      <td>16</td>\n",
       "      <td>Never-married</td>\n",
       "      <td>Prof-specialty</td>\n",
       "      <td>Not-in-family</td>\n",
       "      <td>White</td>\n",
       "      <td>Male</td>\n",
       "      <td>0</td>\n",
       "      <td>0</td>\n",
       "      <td>40</td>\n",
       "      <td>United-States</td>\n",
       "    </tr>\n",
       "    <tr>\n",
       "      <th>4</th>\n",
       "      <td>7827</td>\n",
       "      <td>46</td>\n",
       "      <td>Private</td>\n",
       "      <td>124071</td>\n",
       "      <td>Masters</td>\n",
       "      <td>14</td>\n",
       "      <td>Widowed</td>\n",
       "      <td>Prof-specialty</td>\n",
       "      <td>Not-in-family</td>\n",
       "      <td>White</td>\n",
       "      <td>Female</td>\n",
       "      <td>0</td>\n",
       "      <td>0</td>\n",
       "      <td>44</td>\n",
       "      <td>United-States</td>\n",
       "    </tr>\n",
       "    <tr>\n",
       "      <th>...</th>\n",
       "      <td>...</td>\n",
       "      <td>...</td>\n",
       "      <td>...</td>\n",
       "      <td>...</td>\n",
       "      <td>...</td>\n",
       "      <td>...</td>\n",
       "      <td>...</td>\n",
       "      <td>...</td>\n",
       "      <td>...</td>\n",
       "      <td>...</td>\n",
       "      <td>...</td>\n",
       "      <td>...</td>\n",
       "      <td>...</td>\n",
       "      <td>...</td>\n",
       "      <td>...</td>\n",
       "    </tr>\n",
       "    <tr>\n",
       "      <th>8135</th>\n",
       "      <td>30175</td>\n",
       "      <td>43</td>\n",
       "      <td>Self-emp-not-inc</td>\n",
       "      <td>237670</td>\n",
       "      <td>Assoc-voc</td>\n",
       "      <td>11</td>\n",
       "      <td>Divorced</td>\n",
       "      <td>Exec-managerial</td>\n",
       "      <td>Not-in-family</td>\n",
       "      <td>White</td>\n",
       "      <td>Male</td>\n",
       "      <td>0</td>\n",
       "      <td>0</td>\n",
       "      <td>25</td>\n",
       "      <td>United-States</td>\n",
       "    </tr>\n",
       "    <tr>\n",
       "      <th>8136</th>\n",
       "      <td>30745</td>\n",
       "      <td>30</td>\n",
       "      <td>Private</td>\n",
       "      <td>229772</td>\n",
       "      <td>10th</td>\n",
       "      <td>6</td>\n",
       "      <td>Married-civ-spouse</td>\n",
       "      <td>Craft-repair</td>\n",
       "      <td>Husband</td>\n",
       "      <td>White</td>\n",
       "      <td>Male</td>\n",
       "      <td>0</td>\n",
       "      <td>0</td>\n",
       "      <td>40</td>\n",
       "      <td>United-States</td>\n",
       "    </tr>\n",
       "    <tr>\n",
       "      <th>8137</th>\n",
       "      <td>29400</td>\n",
       "      <td>60</td>\n",
       "      <td>Private</td>\n",
       "      <td>188650</td>\n",
       "      <td>5th-6th</td>\n",
       "      <td>3</td>\n",
       "      <td>Married-civ-spouse</td>\n",
       "      <td>Sales</td>\n",
       "      <td>Husband</td>\n",
       "      <td>White</td>\n",
       "      <td>Male</td>\n",
       "      <td>0</td>\n",
       "      <td>0</td>\n",
       "      <td>40</td>\n",
       "      <td>?</td>\n",
       "    </tr>\n",
       "    <tr>\n",
       "      <th>8138</th>\n",
       "      <td>27264</td>\n",
       "      <td>25</td>\n",
       "      <td>?</td>\n",
       "      <td>230856</td>\n",
       "      <td>HS-grad</td>\n",
       "      <td>9</td>\n",
       "      <td>Never-married</td>\n",
       "      <td>?</td>\n",
       "      <td>Unmarried</td>\n",
       "      <td>Black</td>\n",
       "      <td>Female</td>\n",
       "      <td>0</td>\n",
       "      <td>0</td>\n",
       "      <td>40</td>\n",
       "      <td>United-States</td>\n",
       "    </tr>\n",
       "    <tr>\n",
       "      <th>8139</th>\n",
       "      <td>30338</td>\n",
       "      <td>50</td>\n",
       "      <td>Private</td>\n",
       "      <td>175804</td>\n",
       "      <td>Bachelors</td>\n",
       "      <td>13</td>\n",
       "      <td>Married-civ-spouse</td>\n",
       "      <td>Sales</td>\n",
       "      <td>Husband</td>\n",
       "      <td>White</td>\n",
       "      <td>Male</td>\n",
       "      <td>0</td>\n",
       "      <td>0</td>\n",
       "      <td>40</td>\n",
       "      <td>United-States</td>\n",
       "    </tr>\n",
       "  </tbody>\n",
       "</table>\n",
       "<p>8140 rows × 15 columns</p>\n",
       "</div>"
      ],
      "text/plain": [
       "      Unnamed: 0  39          State-gov   77516   Bachelors   13  \\\n",
       "0          14160  38            Private  680390     HS-grad    9   \n",
       "1          27047  45          State-gov   50567     HS-grad    9   \n",
       "2          28867  29            Private  185908   Bachelors   13   \n",
       "3           5667  51            Private  306108   Doctorate   16   \n",
       "4           7827  46            Private  124071     Masters   14   \n",
       "...          ...  ..                ...     ...         ...  ...   \n",
       "8135       30175  43   Self-emp-not-inc  237670   Assoc-voc   11   \n",
       "8136       30745  30            Private  229772        10th    6   \n",
       "8137       29400  60            Private  188650     5th-6th    3   \n",
       "8138       27264  25                  ?  230856     HS-grad    9   \n",
       "8139       30338  50            Private  175804   Bachelors   13   \n",
       "\n",
       "            Never-married      Adm-clerical   Not-in-family   White     Male  \\\n",
       "0                Divorced      Adm-clerical       Unmarried   White   Female   \n",
       "1      Married-civ-spouse   Exec-managerial            Wife   White   Female   \n",
       "2      Married-civ-spouse   Exec-managerial         Husband   Black     Male   \n",
       "3           Never-married    Prof-specialty   Not-in-family   White     Male   \n",
       "4                 Widowed    Prof-specialty   Not-in-family   White   Female   \n",
       "...                   ...               ...             ...     ...      ...   \n",
       "8135             Divorced   Exec-managerial   Not-in-family   White     Male   \n",
       "8136   Married-civ-spouse      Craft-repair         Husband   White     Male   \n",
       "8137   Married-civ-spouse             Sales         Husband   White     Male   \n",
       "8138        Never-married                 ?       Unmarried   Black   Female   \n",
       "8139   Married-civ-spouse             Sales         Husband   White     Male   \n",
       "\n",
       "       2174   0   40   United-States  \n",
       "0         0   0   20   United-States  \n",
       "1         0   0   40   United-States  \n",
       "2         0   0   55   United-States  \n",
       "3         0   0   40   United-States  \n",
       "4         0   0   44   United-States  \n",
       "...     ...  ..  ...             ...  \n",
       "8135      0   0   25   United-States  \n",
       "8136      0   0   40   United-States  \n",
       "8137      0   0   40               ?  \n",
       "8138      0   0   40   United-States  \n",
       "8139      0   0   40   United-States  \n",
       "\n",
       "[8140 rows x 15 columns]"
      ]
     },
     "execution_count": 14,
     "metadata": {},
     "output_type": "execute_result"
    }
   ],
   "source": [
    "#splitting test data and targets\n",
    "x_test = test.drop(columns=\" <=50K\")\n",
    "y_test = pd.DataFrame(test[\" <=50K\"])\n",
    "\n",
    "x_test"
   ]
  },
  {
   "cell_type": "code",
   "execution_count": 15,
   "metadata": {},
   "outputs": [],
   "source": [
    "#make predictions with each model\n",
    "syn_pipe.fit(Xs_train, Ys_train)\n",
    "syn_pred = syn_pipe.predict(x_test)"
   ]
  },
  {
   "cell_type": "code",
   "execution_count": 16,
   "metadata": {
    "scrolled": true
   },
   "outputs": [
    {
     "data": {
      "image/png": "[encoded data removed]",
      "text/plain": [
       "<Figure size 432x288 with 2 Axes>"
      ]
     },
     "metadata": {
      "needs_background": "light"
     },
     "output_type": "display_data"
    }
   ],
   "source": [
    "plot_confusion_matrix(syn_pipe, x_test, y_test);\n",
    "plt.savefig(\"./data/synth_confusion_matrix.jpg\")"
   ]
  },
  {
   "cell_type": "code",
   "execution_count": 17,
   "metadata": {
    "scrolled": true
   },
   "outputs": [
    {
     "data": {
      "image/png": "[encoded data removed]",
      "text/plain": [
       "<Figure size 432x288 with 1 Axes>"
      ]
     },
     "metadata": {
      "needs_background": "light"
     },
     "output_type": "display_data"
    }
   ],
   "source": [
    "plot_roc_curve(syn_pipe, x_test, y_test);\n",
    "plt.savefig(\"./data/synth_roc.jpg\")"
   ]
  },
  {
   "cell_type": "code",
   "execution_count": 18,
   "metadata": {
    "scrolled": true
   },
   "outputs": [
    {
     "data": {
      "text/plain": [
       "(array([0.87533618, 0.65695437]),\n",
       " array([0.89865194, 0.60262229]),\n",
       " array([0.88684084, 0.62861652]),\n",
       " array([6157, 1983], dtype=int64))"
      ]
     },
     "execution_count": 18,
     "metadata": {},
     "output_type": "execute_result"
    }
   ],
   "source": [
    "precision_recall_fscore_support(y_test, syn_pred)"
   ]
  },
  {
   "cell_type": "code",
   "execution_count": 19,
   "metadata": {},
   "outputs": [
    {
     "data": {
      "text/plain": [
       "0.8265356265356265"
      ]
     },
     "execution_count": 19,
     "metadata": {},
     "output_type": "execute_result"
    }
   ],
   "source": [
    "accuracy_score(y_test, syn_pred)"
   ]
  },
  {
   "cell_type": "code",
   "execution_count": 20,
   "metadata": {},
   "outputs": [],
   "source": [
    "#make predictions for og model\n",
    "og_pipe.fit(Xr_train, Yr_train)\n",
    "og_pred = og_pipe.predict(x_test)"
   ]
  },
  {
   "cell_type": "code",
   "execution_count": 21,
   "metadata": {},
   "outputs": [
    {
     "data": {
      "image/png": "[encoded data removed]",
      "text/plain": [
       "<Figure size 432x288 with 2 Axes>"
      ]
     },
     "metadata": {
      "needs_background": "light"
     },
     "output_type": "display_data"
    }
   ],
   "source": [
    "plot_confusion_matrix(og_pipe, x_test, y_test);\n",
    "plt.savefig(\"./data/original_confusion_matrix.jpg\")"
   ]
  },
  {
   "cell_type": "code",
   "execution_count": 22,
   "metadata": {},
   "outputs": [
    {
     "data": {
      "image/png": "[encoded data removed]",
      "text/plain": [
       "<Figure size 432x288 with 1 Axes>"
      ]
     },
     "metadata": {
      "needs_background": "light"
     },
     "output_type": "display_data"
    }
   ],
   "source": [
    "plot_roc_curve(og_pipe, x_test, y_test);\n",
    "plt.savefig(\"./data/original_roc.jpg\")"
   ]
  },
  {
   "cell_type": "code",
   "execution_count": 23,
   "metadata": {},
   "outputs": [
    {
     "data": {
      "text/plain": [
       "(array([0.8728397 , 0.64429896]),\n",
       " array([0.89410427, 0.59556228]),\n",
       " array([0.88334403, 0.61897275]),\n",
       " array([6157, 1983], dtype=int64))"
      ]
     },
     "execution_count": 23,
     "metadata": {},
     "output_type": "execute_result"
    }
   ],
   "source": [
    "precision_recall_fscore_support(y_test, og_pred)"
   ]
  },
  {
   "cell_type": "code",
   "execution_count": 24,
   "metadata": {},
   "outputs": [
    {
     "data": {
      "text/plain": [
       "0.8213759213759214"
      ]
     },
     "execution_count": 24,
     "metadata": {},
     "output_type": "execute_result"
    }
   ],
   "source": [
    "accuracy_score(y_test, og_pred)"
   ]
  }
 ],
 "metadata": {
  "kernelspec": {
   "display_name": "Python (learn-env)",
   "language": "python",
   "name": "learn-env"
  },
  "language_info": {
   "codemirror_mode": {
    "name": "ipython",
    "version": 3
   },
   "file_extension": ".py",
   "mimetype": "text/x-python",
   "name": "python",
   "nbconvert_exporter": "python",
   "pygments_lexer": "ipython3",
   "version": "3.8.5"
  }
 },
 "nbformat": 4,
 "nbformat_minor": 4
}
